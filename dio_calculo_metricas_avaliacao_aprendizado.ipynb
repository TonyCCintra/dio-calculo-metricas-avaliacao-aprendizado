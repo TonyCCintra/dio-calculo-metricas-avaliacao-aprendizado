{
  "nbformat": 4,
  "nbformat_minor": 0,
  "metadata": {
    "colab": {
      "provenance": []
    },
    "kernelspec": {
      "name": "python3",
      "display_name": "Python 3"
    },
    "language_info": {
      "name": "python"
    }
  },
  "cells": [
    {
      "cell_type": "code",
      "execution_count": 1,
      "metadata": {
        "colab": {
          "base_uri": "https://localhost:8080/"
        },
        "id": "4RhNFhDPR6jS",
        "outputId": "1f485d0f-df40-4db4-a221-92ce5383b705"
      },
      "outputs": [
        {
          "output_type": "stream",
          "name": "stdout",
          "text": [
            "Valores da Matriz de Confusão definidos:\n",
            "VP: 50\n",
            "VN: 100\n",
            "FP: 10\n",
            "FN: 5\n",
            "------------------------------\n"
          ]
        }
      ],
      "source": [
        "# Passo 1: Definição dos valores da Matriz de Confusão (escolha arbitrária)\n",
        "\n",
        "# --- ESCOLHA SEUS VALORES AQUI ---\n",
        "VP = 50  # Exemplo: Verdadeiros Positivos\n",
        "VN = 100 # Exemplo: Verdadeiros Negativos\n",
        "FP = 10  # Exemplo: Falsos Positivos\n",
        "FN = 5   # Exemplo: Falsos Negativos\n",
        "# ---------------------------------\n",
        "\n",
        "print(f\"Valores da Matriz de Confusão definidos:\")\n",
        "print(f\"VP: {VP}\")\n",
        "print(f\"VN: {VN}\")\n",
        "print(f\"FP: {FP}\")\n",
        "print(f\"FN: {FN}\")\n",
        "print(\"-\" * 30) # Apenas uma linha para separar visualmente"
      ]
    },
    {
      "cell_type": "code",
      "source": [
        "# Passo 2: Cálculo da Acurácia\n",
        "\n",
        "# As variáveis VP, VN, FP, FN já foram definidas na célula anterior\n",
        "\n",
        "# Calcula o total de amostras\n",
        "total_amostras = VP + VN + FP + FN\n",
        "\n",
        "# Calcula a acurácia\n",
        "# É uma boa prática verificar se o denominador (total_amostras) é zero para evitar divisão por zero,\n",
        "# embora com os valores que escolhemos, isso não deve acontecer.\n",
        "if total_amostras > 0:\n",
        "    acuracia = (VP + VN) / total_amostras\n",
        "else:\n",
        "    acuracia = 0 # Ou algum outro valor indicando que não pôde ser calculada\n",
        "\n",
        "print(f\"Acurácia Calculada: {acuracia:.4f}\") # :.4f formata para 4 casas decimais\n",
        "print(\"-\" * 30)"
      ],
      "metadata": {
        "colab": {
          "base_uri": "https://localhost:8080/"
        },
        "id": "T3asWpbQThiZ",
        "outputId": "76bcbb1e-2d8c-42ef-d36b-6f4b0a51c0be"
      },
      "execution_count": 2,
      "outputs": [
        {
          "output_type": "stream",
          "name": "stdout",
          "text": [
            "Acurácia Calculada: 0.9091\n",
            "------------------------------\n"
          ]
        }
      ]
    },
    {
      "cell_type": "code",
      "source": [
        "# Passo 3: Cálculo da Sensibilidade (Recall)\n",
        "\n",
        "# As variáveis VP e FN já foram definidas anteriormente\n",
        "\n",
        "# Calcula o total de positivos reais (condição positiva)\n",
        "total_positivos_reais = VP + FN\n",
        "\n",
        "# Calcula a sensibilidade\n",
        "# Verificando se o denominador é zero\n",
        "if total_positivos_reais > 0:\n",
        "    sensibilidade = VP / total_positivos_reais\n",
        "else:\n",
        "    sensibilidade = 0 # Ou NaN (Not a Number), se preferir indicar indefinido\n",
        "\n",
        "print(f\"Sensibilidade (Recall) Calculada: {sensibilidade:.4f}\")\n",
        "print(\"-\" * 30)"
      ],
      "metadata": {
        "colab": {
          "base_uri": "https://localhost:8080/"
        },
        "id": "E8LxB9N7TrlZ",
        "outputId": "80946b86-c548-4538-9265-f58bd3577232"
      },
      "execution_count": 3,
      "outputs": [
        {
          "output_type": "stream",
          "name": "stdout",
          "text": [
            "Sensibilidade (Recall) Calculada: 0.9091\n",
            "------------------------------\n"
          ]
        }
      ]
    },
    {
      "cell_type": "code",
      "source": [
        "# Passo 4: Cálculo da Especificidade\n",
        "\n",
        "# As variáveis VN e FP já foram definidas anteriormente\n",
        "\n",
        "# Calcula o total de negativos reais (condição negativa)\n",
        "total_negativos_reais = VN + FP\n",
        "\n",
        "# Calcula a especificidade\n",
        "# Verificando se o denominador é zero\n",
        "if total_negativos_reais > 0:\n",
        "    especificidade = VN / total_negativos_reais\n",
        "else:\n",
        "    especificidade = 0 # Ou NaN, se preferir\n",
        "\n",
        "print(f\"Especificidade Calculada: {especificidade:.4f}\")\n",
        "print(\"-\" * 30)"
      ],
      "metadata": {
        "colab": {
          "base_uri": "https://localhost:8080/"
        },
        "id": "X-2ZlRkRTy7D",
        "outputId": "593e4124-c469-4623-8d5a-aee0bb47567d"
      },
      "execution_count": 4,
      "outputs": [
        {
          "output_type": "stream",
          "name": "stdout",
          "text": [
            "Especificidade Calculada: 0.9091\n",
            "------------------------------\n"
          ]
        }
      ]
    },
    {
      "cell_type": "code",
      "source": [
        "# Passo 5: Cálculo da Precisão (Precision)\n",
        "\n",
        "# As variáveis VP e FP já foram definidas anteriormente\n",
        "\n",
        "# Calcula o total de positivos preditos pelo modelo\n",
        "total_positivos_preditos = VP + FP\n",
        "\n",
        "# Calcula a precisão\n",
        "# Verificando se o denominador é zero\n",
        "if total_positivos_preditos > 0:\n",
        "    precisao = VP / total_positivos_preditos\n",
        "else:\n",
        "    precisao = 0 # Ou NaN, se preferir\n",
        "\n",
        "print(f\"Precisão (Precision) Calculada: {precisao:.4f}\")\n",
        "print(\"-\" * 30)"
      ],
      "metadata": {
        "colab": {
          "base_uri": "https://localhost:8080/"
        },
        "id": "kNwdIOBJT6fs",
        "outputId": "449850f7-b94e-44ec-f9a3-0fda6dd276f4"
      },
      "execution_count": 5,
      "outputs": [
        {
          "output_type": "stream",
          "name": "stdout",
          "text": [
            "Precisão (Precision) Calculada: 0.8333\n",
            "------------------------------\n"
          ]
        }
      ]
    },
    {
      "cell_type": "code",
      "source": [
        "# Passo 6: Cálculo do F1-score\n",
        "\n",
        "# As variáveis 'precisao' e 'sensibilidade' foram calculadas nos passos anteriores.\n",
        "# Certifique-se de que as células anteriores foram executadas.\n",
        "\n",
        "# Calcula o F1-score\n",
        "# Verificando se o denominador (precisao + sensibilidade) é zero para evitar divisão por zero.\n",
        "# Isso também cobre o caso em que precisao ou sensibilidade (ou ambos) são zero.\n",
        "if (precisao + sensibilidade) > 0:\n",
        "    f1_score = 2 * (precisao * sensibilidade) / (precisao + sensibilidade)\n",
        "else:\n",
        "    f1_score = 0 # Ou NaN, se preferir\n",
        "\n",
        "print(f\"F1-score Calculado: {f1_score:.4f}\")\n",
        "print(\"-\" * 30)"
      ],
      "metadata": {
        "colab": {
          "base_uri": "https://localhost:8080/"
        },
        "id": "zo7H_nQ-UBgG",
        "outputId": "eec0988d-8f45-47aa-b0b4-220f9a84e038"
      },
      "execution_count": 6,
      "outputs": [
        {
          "output_type": "stream",
          "name": "stdout",
          "text": [
            "F1-score Calculado: 0.8696\n",
            "------------------------------\n"
          ]
        }
      ]
    },
    {
      "cell_type": "code",
      "source": [
        "# Passo 6: Cálculo do F1-score\n",
        "\n",
        "# As variáveis precisao e sensibilidade já foram calculadas nas células anteriores\n",
        "# Se você executou tudo em ordem, elas já estão disponíveis.\n",
        "# Se não, você pode recalcular ou usar os valores:\n",
        "# precisao = 0.833333...\n",
        "# sensibilidade = 0.909090...\n",
        "\n",
        "# Calcula o F1-score\n",
        "# Verificando se o denominador (precisao + sensibilidade) é zero\n",
        "if (precisao + sensibilidade) > 0:\n",
        "    f1_score = 2 * (precisao * sensibilidade) / (precisao + sensibilidade)\n",
        "else:\n",
        "    f1_score = 0 # Ou NaN\n",
        "\n",
        "print(f\"F1-score Calculado: {f1_score:.4f}\")\n",
        "print(\"-\" * 30)\n",
        "\n",
        "# Alternativamente, usando VP, FP, FN diretamente:\n",
        "# if (2 * VP + FP + FN) > 0:\n",
        "#     f1_score_direto = (2 * VP) / (2 * VP + FP + FN)\n",
        "#     print(f\"F1-score (calculado diretamente): {f1_score_direto:.4f}\")\n",
        "# else:\n",
        "#     f1_score_direto = 0\n",
        "# print(\"-\" * 30)"
      ],
      "metadata": {
        "colab": {
          "base_uri": "https://localhost:8080/"
        },
        "id": "9psgQJgkcHf7",
        "outputId": "83e644ad-97a6-48ff-a98d-b55a2c7473eb"
      },
      "execution_count": 7,
      "outputs": [
        {
          "output_type": "stream",
          "name": "stdout",
          "text": [
            "F1-score Calculado: 0.8696\n",
            "------------------------------\n"
          ]
        }
      ]
    },
    {
      "cell_type": "code",
      "source": [
        "# --- CÓDIGO CONSOLIDADO PARA CÁLCULO DE MÉTRICAS DE CLASSIFICAÇÃO ---\n",
        "# Autor: [Seu Nome/Apelido Aqui]\n",
        "# Data: [Data de Hoje]\n",
        "# Descrição: Este script calcula as principais métricas de avaliação para modelos\n",
        "#            de classificação (Acurácia, Sensibilidade, Especificidade, Precisão, F1-score)\n",
        "#            a partir de valores fornecidos para uma matriz de confusão.\n",
        "\n",
        "print(\"--- Início do Script de Cálculo de Métricas ---\")\n",
        "\n",
        "# Passo 1: Definição dos valores da Matriz de Confusão (escolha arbitrária)\n",
        "print(\"\\n--- Passo 1: Definição da Matriz de Confusão ---\")\n",
        "VP = 50  # Verdadeiros Positivos\n",
        "VN = 100 # Verdadeiros Negativos\n",
        "FP = 10  # Falsos Positivos\n",
        "FN = 5   # Falsos Negativos\n",
        "\n",
        "print(f\"Valores da Matriz de Confusão:\")\n",
        "print(f\"  Verdadeiros Positivos (VP): {VP}\")\n",
        "print(f\"  Verdadeiros Negativos (VN): {VN}\")\n",
        "print(f\"  Falsos Positivos (FP):    {FP}\")\n",
        "print(f\"  Falsos Negativos (FN):    {FN}\")\n",
        "print(\"-\" * 50)\n",
        "\n",
        "# --- Cálculos das Métricas ---\n",
        "print(\"\\n--- Início dos Cálculos das Métricas ---\")\n",
        "\n",
        "# Passo 2: Cálculo da Acurácia\n",
        "# Fórmula: Acurácia = (VP + VN) / (VP + VN + FP + FN)\n",
        "total_amostras = VP + VN + FP + FN\n",
        "if total_amostras > 0:\n",
        "    acuracia = (VP + VN) / total_amostras\n",
        "else:\n",
        "    acuracia = 0.0 # Ou float('nan') para indicar indefinido\n",
        "\n",
        "print(f\"\\n1. Acurácia:\")\n",
        "print(f\"   Fórmula: (VP + VN) / (VP + VN + FP + FN)\")\n",
        "print(f\"   Cálculo: ({VP} + {VN}) / ({VP} + {VN} + {FP} + {FN}) = {VP+VN} / {total_amostras}\")\n",
        "print(f\"   Resultado: {acuracia:.4f}\")\n",
        "\n",
        "# Passo 3: Cálculo da Sensibilidade (Recall ou Taxa de Verdadeiros Positivos)\n",
        "# Fórmula: Sensibilidade = VP / (VP + FN)\n",
        "total_positivos_reais = VP + FN\n",
        "if total_positivos_reais > 0:\n",
        "    sensibilidade = VP / total_positivos_reais\n",
        "else:\n",
        "    sensibilidade = 0.0\n",
        "\n",
        "print(f\"\\n2. Sensibilidade (Recall):\")\n",
        "print(f\"   Fórmula: VP / (VP + FN)\")\n",
        "print(f\"   Cálculo: {VP} / ({VP} + {FN}) = {VP} / {total_positivos_reais}\")\n",
        "print(f\"   Resultado: {sensibilidade:.4f}\")\n",
        "\n",
        "# Passo 4: Cálculo da Especificidade (Taxa de Verdadeiros Negativos)\n",
        "# Fórmula: Especificidade = VN / (VN + FP)\n",
        "total_negativos_reais = VN + FP\n",
        "if total_negativos_reais > 0:\n",
        "    especificidade = VN / total_negativos_reais\n",
        "else:\n",
        "    especificidade = 0.0\n",
        "\n",
        "print(f\"\\n3. Especificidade:\")\n",
        "print(f\"   Fórmula: VN / (VN + FP)\")\n",
        "print(f\"   Cálculo: {VN} / ({VN} + {FP}) = {VN} / {total_negativos_reais}\")\n",
        "print(f\"   Resultado: {especificidade:.4f}\")\n",
        "\n",
        "# Passo 5: Cálculo da Precisão (Precision ou Valor Preditivo Positivo)\n",
        "# Fórmula: Precisão = VP / (VP + FP)\n",
        "total_positivos_preditos = VP + FP\n",
        "if total_positivos_preditos > 0:\n",
        "    precisao = VP / total_positivos_preditos\n",
        "else:\n",
        "    precisao = 0.0\n",
        "\n",
        "print(f\"\\n4. Precisão (Precision):\")\n",
        "print(f\"   Fórmula: VP / (VP + FP)\")\n",
        "print(f\"   Cálculo: {VP} / ({VP} + {FP}) = {VP} / {total_positivos_preditos}\")\n",
        "print(f\"   Resultado: {precisao:.4f}\")\n",
        "\n",
        "# Passo 6: Cálculo do F-score (ou F1-score)\n",
        "# Fórmula: F1-score = 2 * (Precisão * Sensibilidade) / (Precisão + Sensibilidade)\n",
        "if (precisao + sensibilidade) > 0:\n",
        "    f1_score = 2 * (precisao * sensibilidade) / (precisao + sensibilidade)\n",
        "else:\n",
        "    f1_score = 0.0\n",
        "\n",
        "print(f\"\\n5. F1-score:\")\n",
        "print(f\"   Fórmula: 2 * (Precisão * Sensibilidade) / (Precisão + Sensibilidade)\")\n",
        "print(f\"   Cálculo: 2 * ({precisao:.4f} * {sensibilidade:.4f}) / ({precisao:.4f} + {sensibilidade:.4f})\")\n",
        "print(f\"   Resultado: {f1_score:.4f}\")\n",
        "print(\"-\" * 50)\n",
        "\n",
        "print(\"\\n--- Resumo das Métricas Calculadas ---\")\n",
        "print(f\"Acurácia:         {acuracia:.4f}\")\n",
        "print(f\"Sensibilidade:    {sensibilidade:.4f}\")\n",
        "print(f\"Especificidade:   {especificidade:.4f}\")\n",
        "print(f\"Precisão:         {precisao:.4f}\")\n",
        "print(f\"F1-score:         {f1_score:.4f}\")\n",
        "print(\"\\n--- Fim do Script ---\")"
      ],
      "metadata": {
        "colab": {
          "base_uri": "https://localhost:8080/"
        },
        "id": "4DxKXZdickF_",
        "outputId": "ec958431-3f60-48f1-cf1a-d55c83be27fd"
      },
      "execution_count": 8,
      "outputs": [
        {
          "output_type": "stream",
          "name": "stdout",
          "text": [
            "--- Início do Script de Cálculo de Métricas ---\n",
            "\n",
            "--- Passo 1: Definição da Matriz de Confusão ---\n",
            "Valores da Matriz de Confusão:\n",
            "  Verdadeiros Positivos (VP): 50\n",
            "  Verdadeiros Negativos (VN): 100\n",
            "  Falsos Positivos (FP):    10\n",
            "  Falsos Negativos (FN):    5\n",
            "--------------------------------------------------\n",
            "\n",
            "--- Início dos Cálculos das Métricas ---\n",
            "\n",
            "1. Acurácia:\n",
            "   Fórmula: (VP + VN) / (VP + VN + FP + FN)\n",
            "   Cálculo: (50 + 100) / (50 + 100 + 10 + 5) = 150 / 165\n",
            "   Resultado: 0.9091\n",
            "\n",
            "2. Sensibilidade (Recall):\n",
            "   Fórmula: VP / (VP + FN)\n",
            "   Cálculo: 50 / (50 + 5) = 50 / 55\n",
            "   Resultado: 0.9091\n",
            "\n",
            "3. Especificidade:\n",
            "   Fórmula: VN / (VN + FP)\n",
            "   Cálculo: 100 / (100 + 10) = 100 / 110\n",
            "   Resultado: 0.9091\n",
            "\n",
            "4. Precisão (Precision):\n",
            "   Fórmula: VP / (VP + FP)\n",
            "   Cálculo: 50 / (50 + 10) = 50 / 60\n",
            "   Resultado: 0.8333\n",
            "\n",
            "5. F1-score:\n",
            "   Fórmula: 2 * (Precisão * Sensibilidade) / (Precisão + Sensibilidade)\n",
            "   Cálculo: 2 * (0.8333 * 0.9091) / (0.8333 + 0.9091)\n",
            "   Resultado: 0.8696\n",
            "--------------------------------------------------\n",
            "\n",
            "--- Resumo das Métricas Calculadas ---\n",
            "Acurácia:         0.9091\n",
            "Sensibilidade:    0.9091\n",
            "Especificidade:   0.9091\n",
            "Precisão:         0.8333\n",
            "F1-score:         0.8696\n",
            "\n",
            "--- Fim do Script ---\n"
          ]
        }
      ]
    }
  ]
}